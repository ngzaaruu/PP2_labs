{
 "cells": [
  {
   "cell_type": "code",
   "execution_count": 24,
   "metadata": {},
   "outputs": [
    {
     "name": "stdout",
     "output_type": "stream",
     "text": [
      "['abbb', 'ab']\n"
     ]
    }
   ],
   "source": [
    "import re\n",
    "\n",
    "text = \"hello abbb ak ab erg\"\n",
    "\n",
    "matches = re.findall(r\"ab+\", text)\n",
    "\n",
    "print(matches)\n"
   ]
  },
  {
   "cell_type": "code",
   "execution_count": 25,
   "metadata": {},
   "outputs": [
    {
     "name": "stdout",
     "output_type": "stream",
     "text": [
      "['abb', 'abbb']\n"
     ]
    }
   ],
   "source": [
    "import re\n",
    "\n",
    "text = \"abb a abbb abbbb abbbbbbbbbbbbbbbbbbbbbbbbbbbbbbbbbbbbbb\"\n",
    "\n",
    "matches = re.findall(r\"\\bab{2,3}\\b\", text)\n",
    "\n",
    "print(matches)"
   ]
  },
  {
   "cell_type": "code",
   "execution_count": 26,
   "metadata": {},
   "outputs": [
    {
     "name": "stdout",
     "output_type": "stream",
     "text": [
      "['hello_everyone', 'hello_hello']\n"
     ]
    }
   ],
   "source": [
    "import re\n",
    "\n",
    "text = \"hello_everyone kbtu students hello_hello\"\n",
    "\n",
    "matches = re.findall(r\"\\b[a-z]+_[a-z]+\\b\", text)\n",
    "\n",
    "print(matches)"
   ]
  },
  {
   "cell_type": "code",
   "execution_count": 27,
   "metadata": {},
   "outputs": [
    {
     "name": "stdout",
     "output_type": "stream",
     "text": [
      "['Hello', 'You']\n"
     ]
    }
   ],
   "source": [
    "import re\n",
    "\n",
    "text = \"Hello world WHat ARE You doing\"\n",
    "\n",
    "a = r\"\\b[A-Z][a-z]+\\b\"\n",
    "\n",
    "matches = re.findall(a, text)\n",
    "\n",
    "print(matches)\n"
   ]
  },
  {
   "cell_type": "code",
   "execution_count": 28,
   "metadata": {},
   "outputs": [
    {
     "name": "stdout",
     "output_type": "stream",
     "text": [
      "not matches\n",
      "['anb']\n",
      "['ao_SAMTYBROb']\n"
     ]
    }
   ],
   "source": [
    "import re\n",
    "\n",
    "def get(text):\n",
    "    matches = re.findall(r\"a.*?b$\", text)\n",
    "    if len(matches) > 0:\n",
    "        print(matches)\n",
    "    else:\n",
    "        print(\"not matches\")\n",
    "\n",
    "get(\"aVadakedavra\")\n",
    "get(\"Brotanb\")\n",
    "get(\"Brao_SAMTYBROb\")"
   ]
  },
  {
   "cell_type": "code",
   "execution_count": 29,
   "metadata": {},
   "outputs": [
    {
     "name": "stdout",
     "output_type": "stream",
     "text": [
      "Hello:world!:Bratan:\n"
     ]
    }
   ],
   "source": [
    "import re\n",
    "\n",
    "def get(text):\n",
    "    matches = re.sub(r\"[ ,.]\", \":\", text)\n",
    "    print(matches)\n",
    "\n",
    "get(\"Hello world!,Bratan.\")"
   ]
  },
  {
   "cell_type": "code",
   "execution_count": 30,
   "metadata": {},
   "outputs": [
    {
     "name": "stdout",
     "output_type": "stream",
     "text": [
      "helloWorld!\n"
     ]
    }
   ],
   "source": [
    "import re\n",
    "\n",
    "\n",
    "def get(text):\n",
    "    matches = re.sub(r\"_([a-z])\", lambda l:l.group(1).upper(), text)\n",
    "    print(matches)\n",
    "\n",
    "\n",
    "get(\"hello_world!\") "
   ]
  },
  {
   "cell_type": "code",
   "execution_count": 31,
   "metadata": {},
   "outputs": [
    {
     "name": "stdout",
     "output_type": "stream",
     "text": [
      "['hello', 'My', 'Names', 'Aruzhan']\n"
     ]
    }
   ],
   "source": [
    "import re\n",
    "\n",
    "\n",
    "def get(text):\n",
    "    print(re.split(r\"(?=[A-Z])\", text))\n",
    "\n",
    "\n",
    "get(\"helloMyNamesAruzhan\")"
   ]
  },
  {
   "cell_type": "code",
   "execution_count": 32,
   "metadata": {},
   "outputs": [
    {
     "name": "stdout",
     "output_type": "stream",
     "text": [
      "Hello My Names Aruzhan\n"
     ]
    }
   ],
   "source": [
    "import re\n",
    "\n",
    "\n",
    "def get(text):\n",
    "    print(re.sub(r\"([a-z])([A-Z])\", r\"\\1 \\2\", text))\n",
    "\n",
    "\n",
    "get(\"HelloMyNamesAruzhan\") "
   ]
  },
  {
   "cell_type": "code",
   "execution_count": 33,
   "metadata": {},
   "outputs": [
    {
     "name": "stdout",
     "output_type": "stream",
     "text": [
      "hello_my_names_aruzhan!\n"
     ]
    }
   ],
   "source": [
    "import re\n",
    "\n",
    "\n",
    "def get(text):\n",
    "    matches = re.sub(r\"([a-z])([A-Z])\", r\"\\1_\\2\" , text)\n",
    "    print(matches.lower())\n",
    "\n",
    "\n",
    "get(\"HelloMyNamesAruzhan!\")"
   ]
  }
 ],
 "metadata": {
  "kernelspec": {
   "display_name": "Python 3",
   "language": "python",
   "name": "python3"
  },
  "language_info": {
   "codemirror_mode": {
    "name": "ipython",
    "version": 3
   },
   "file_extension": ".py",
   "mimetype": "text/x-python",
   "name": "python",
   "nbconvert_exporter": "python",
   "pygments_lexer": "ipython3",
   "version": "3.13.1"
  }
 },
 "nbformat": 4,
 "nbformat_minor": 2
}
