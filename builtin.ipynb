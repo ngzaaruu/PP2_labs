{
 "cells": [
  {
   "cell_type": "code",
   "execution_count": 25,
   "metadata": {},
   "outputs": [
    {
     "name": "stdout",
     "output_type": "stream",
     "text": [
      "120\n"
     ]
    }
   ],
   "source": [
    "import functools \n",
    "\n",
    "nums = [2, 3, 4, 5]\n",
    "\n",
    "multNums = functools.reduce(lambda x, y: x * y, nums)\n",
    "\n",
    "print(multNums)"
   ]
  },
  {
   "cell_type": "code",
   "execution_count": 26,
   "metadata": {},
   "outputs": [
    {
     "name": "stdout",
     "output_type": "stream",
     "text": [
      "Uppercase latters: 3\n",
      "Lowercase latters 7\n"
     ]
    }
   ],
   "source": [
    "def countLetters(s):\n",
    "    uppers = sum(map(str.isupper, s))\n",
    "    slowers = sum(map(str.islower, s))\n",
    "    \n",
    "    print(\"Uppercase latters:\", uppers)\n",
    "    print(\"Lowercase latters\", slowers)\n",
    "\n",
    "text = \"Hello WorlD\"\n",
    "countLetters(text)\n",
    "    "
   ]
  },
  {
   "cell_type": "code",
   "execution_count": 27,
   "metadata": {},
   "outputs": [
    {
     "name": "stdout",
     "output_type": "stream",
     "text": [
      "madam madam\n",
      "True\n"
     ]
    }
   ],
   "source": [
    "text = \"madam\"\n",
    "\n",
    "print(text, text[::-1])\n",
    "\n",
    "print(text == text[::-1])\n"
   ]
  },
  {
   "cell_type": "code",
   "execution_count": 28,
   "metadata": {},
   "outputs": [
    {
     "name": "stdout",
     "output_type": "stream",
     "text": [
      "Square root of 25100 after 2123  miliseconds is 158.42979517754858\n"
     ]
    }
   ],
   "source": [
    "import time \n",
    "\n",
    "number = 25100\n",
    "\n",
    "ms = 2123\n",
    "\n",
    "time.sleep(ms / 1000)\n",
    "\n",
    "print(f\"Square root of {number} after {ms}  miliseconds is {number ** 0.5}\")"
   ]
  },
  {
   "cell_type": "code",
   "execution_count": 29,
   "metadata": {},
   "outputs": [
    {
     "name": "stdout",
     "output_type": "stream",
     "text": [
      "False\n"
     ]
    }
   ],
   "source": [
    "a = (True, \"Hello\", True, 0 )\n",
    "\n",
    "print(all(a))"
   ]
  }
 ],
 "metadata": {
  "kernelspec": {
   "display_name": "Python 3",
   "language": "python",
   "name": "python3"
  },
  "language_info": {
   "codemirror_mode": {
    "name": "ipython",
    "version": 3
   },
   "file_extension": ".py",
   "mimetype": "text/x-python",
   "name": "python",
   "nbconvert_exporter": "python",
   "pygments_lexer": "ipython3",
   "version": "3.13.1"
  }
 },
 "nbformat": 4,
 "nbformat_minor": 2
}
